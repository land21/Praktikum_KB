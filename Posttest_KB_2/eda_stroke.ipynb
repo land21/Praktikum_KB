{
 "cells": [
  {
   "cell_type": "markdown",
   "id": "36438cea-1349-4661-9151-4fb998fba704",
   "metadata": {},
   "source": [
    "# POSTTEST 2 DATASET\n",
    "\n",
    "Alan Nuzulan\n",
    "\n",
    "2009106032\n",
    "\n",
    "Kecerdasan Buatan A1 2020"
   ]
  },
  {
   "cell_type": "code",
   "execution_count": 26,
   "id": "f5e01fa9-4b6d-4fda-be3d-cf6516052255",
   "metadata": {},
   "outputs": [],
   "source": [
    "import numpy as np\n",
    "import pandas as pd\n",
    "from tabulate import tabulate"
   ]
  },
  {
   "cell_type": "markdown",
   "id": "9f81232a-d3e0-4117-a948-51b42e4951e8",
   "metadata": {},
   "source": [
    "## TAMPIL DATASET"
   ]
  },
  {
   "cell_type": "code",
   "execution_count": 27,
   "id": "37338f7d-aa2b-42e8-b0b9-7d5892ef3b3a",
   "metadata": {},
   "outputs": [
    {
     "data": {
      "text/html": [
       "<div>\n",
       "<style scoped>\n",
       "    .dataframe tbody tr th:only-of-type {\n",
       "        vertical-align: middle;\n",
       "    }\n",
       "\n",
       "    .dataframe tbody tr th {\n",
       "        vertical-align: top;\n",
       "    }\n",
       "\n",
       "    .dataframe thead th {\n",
       "        text-align: right;\n",
       "    }\n",
       "</style>\n",
       "<table border=\"1\" class=\"dataframe\">\n",
       "  <thead>\n",
       "    <tr style=\"text-align: right;\">\n",
       "      <th></th>\n",
       "      <th>id</th>\n",
       "      <th>gender</th>\n",
       "      <th>age</th>\n",
       "      <th>hypertension</th>\n",
       "      <th>heart_disease</th>\n",
       "      <th>ever_married</th>\n",
       "      <th>work_type</th>\n",
       "      <th>Residence_type</th>\n",
       "      <th>avg_glucose_level</th>\n",
       "      <th>bmi</th>\n",
       "      <th>smoking_status</th>\n",
       "      <th>stroke</th>\n",
       "    </tr>\n",
       "  </thead>\n",
       "  <tbody>\n",
       "    <tr>\n",
       "      <th>0</th>\n",
       "      <td>9046</td>\n",
       "      <td>Male</td>\n",
       "      <td>67.0</td>\n",
       "      <td>0</td>\n",
       "      <td>1</td>\n",
       "      <td>Yes</td>\n",
       "      <td>Private</td>\n",
       "      <td>Urban</td>\n",
       "      <td>228.69</td>\n",
       "      <td>36.6</td>\n",
       "      <td>formerly smoked</td>\n",
       "      <td>1</td>\n",
       "    </tr>\n",
       "    <tr>\n",
       "      <th>1</th>\n",
       "      <td>51676</td>\n",
       "      <td>Female</td>\n",
       "      <td>61.0</td>\n",
       "      <td>0</td>\n",
       "      <td>0</td>\n",
       "      <td>Yes</td>\n",
       "      <td>Self-employed</td>\n",
       "      <td>Rural</td>\n",
       "      <td>202.21</td>\n",
       "      <td>NaN</td>\n",
       "      <td>never smoked</td>\n",
       "      <td>1</td>\n",
       "    </tr>\n",
       "    <tr>\n",
       "      <th>2</th>\n",
       "      <td>31112</td>\n",
       "      <td>Male</td>\n",
       "      <td>80.0</td>\n",
       "      <td>0</td>\n",
       "      <td>1</td>\n",
       "      <td>Yes</td>\n",
       "      <td>Private</td>\n",
       "      <td>Rural</td>\n",
       "      <td>105.92</td>\n",
       "      <td>32.5</td>\n",
       "      <td>never smoked</td>\n",
       "      <td>1</td>\n",
       "    </tr>\n",
       "    <tr>\n",
       "      <th>3</th>\n",
       "      <td>60182</td>\n",
       "      <td>Female</td>\n",
       "      <td>49.0</td>\n",
       "      <td>0</td>\n",
       "      <td>0</td>\n",
       "      <td>Yes</td>\n",
       "      <td>Private</td>\n",
       "      <td>Urban</td>\n",
       "      <td>171.23</td>\n",
       "      <td>34.4</td>\n",
       "      <td>smokes</td>\n",
       "      <td>1</td>\n",
       "    </tr>\n",
       "    <tr>\n",
       "      <th>4</th>\n",
       "      <td>1665</td>\n",
       "      <td>Female</td>\n",
       "      <td>79.0</td>\n",
       "      <td>1</td>\n",
       "      <td>0</td>\n",
       "      <td>Yes</td>\n",
       "      <td>Self-employed</td>\n",
       "      <td>Rural</td>\n",
       "      <td>174.12</td>\n",
       "      <td>24.0</td>\n",
       "      <td>never smoked</td>\n",
       "      <td>1</td>\n",
       "    </tr>\n",
       "    <tr>\n",
       "      <th>...</th>\n",
       "      <td>...</td>\n",
       "      <td>...</td>\n",
       "      <td>...</td>\n",
       "      <td>...</td>\n",
       "      <td>...</td>\n",
       "      <td>...</td>\n",
       "      <td>...</td>\n",
       "      <td>...</td>\n",
       "      <td>...</td>\n",
       "      <td>...</td>\n",
       "      <td>...</td>\n",
       "      <td>...</td>\n",
       "    </tr>\n",
       "    <tr>\n",
       "      <th>5105</th>\n",
       "      <td>18234</td>\n",
       "      <td>Female</td>\n",
       "      <td>80.0</td>\n",
       "      <td>1</td>\n",
       "      <td>0</td>\n",
       "      <td>Yes</td>\n",
       "      <td>Private</td>\n",
       "      <td>Urban</td>\n",
       "      <td>83.75</td>\n",
       "      <td>NaN</td>\n",
       "      <td>never smoked</td>\n",
       "      <td>0</td>\n",
       "    </tr>\n",
       "    <tr>\n",
       "      <th>5106</th>\n",
       "      <td>44873</td>\n",
       "      <td>Female</td>\n",
       "      <td>81.0</td>\n",
       "      <td>0</td>\n",
       "      <td>0</td>\n",
       "      <td>Yes</td>\n",
       "      <td>Self-employed</td>\n",
       "      <td>Urban</td>\n",
       "      <td>125.20</td>\n",
       "      <td>40.0</td>\n",
       "      <td>never smoked</td>\n",
       "      <td>0</td>\n",
       "    </tr>\n",
       "    <tr>\n",
       "      <th>5107</th>\n",
       "      <td>19723</td>\n",
       "      <td>Female</td>\n",
       "      <td>35.0</td>\n",
       "      <td>0</td>\n",
       "      <td>0</td>\n",
       "      <td>Yes</td>\n",
       "      <td>Self-employed</td>\n",
       "      <td>Rural</td>\n",
       "      <td>82.99</td>\n",
       "      <td>30.6</td>\n",
       "      <td>never smoked</td>\n",
       "      <td>0</td>\n",
       "    </tr>\n",
       "    <tr>\n",
       "      <th>5108</th>\n",
       "      <td>37544</td>\n",
       "      <td>Male</td>\n",
       "      <td>51.0</td>\n",
       "      <td>0</td>\n",
       "      <td>0</td>\n",
       "      <td>Yes</td>\n",
       "      <td>Private</td>\n",
       "      <td>Rural</td>\n",
       "      <td>166.29</td>\n",
       "      <td>25.6</td>\n",
       "      <td>formerly smoked</td>\n",
       "      <td>0</td>\n",
       "    </tr>\n",
       "    <tr>\n",
       "      <th>5109</th>\n",
       "      <td>44679</td>\n",
       "      <td>Female</td>\n",
       "      <td>44.0</td>\n",
       "      <td>0</td>\n",
       "      <td>0</td>\n",
       "      <td>Yes</td>\n",
       "      <td>Govt_job</td>\n",
       "      <td>Urban</td>\n",
       "      <td>85.28</td>\n",
       "      <td>26.2</td>\n",
       "      <td>Unknown</td>\n",
       "      <td>0</td>\n",
       "    </tr>\n",
       "  </tbody>\n",
       "</table>\n",
       "<p>5110 rows × 12 columns</p>\n",
       "</div>"
      ],
      "text/plain": [
       "         id  gender   age  hypertension  heart_disease ever_married  \\\n",
       "0      9046    Male  67.0             0              1          Yes   \n",
       "1     51676  Female  61.0             0              0          Yes   \n",
       "2     31112    Male  80.0             0              1          Yes   \n",
       "3     60182  Female  49.0             0              0          Yes   \n",
       "4      1665  Female  79.0             1              0          Yes   \n",
       "...     ...     ...   ...           ...            ...          ...   \n",
       "5105  18234  Female  80.0             1              0          Yes   \n",
       "5106  44873  Female  81.0             0              0          Yes   \n",
       "5107  19723  Female  35.0             0              0          Yes   \n",
       "5108  37544    Male  51.0             0              0          Yes   \n",
       "5109  44679  Female  44.0             0              0          Yes   \n",
       "\n",
       "          work_type Residence_type  avg_glucose_level   bmi   smoking_status  \\\n",
       "0           Private          Urban             228.69  36.6  formerly smoked   \n",
       "1     Self-employed          Rural             202.21   NaN     never smoked   \n",
       "2           Private          Rural             105.92  32.5     never smoked   \n",
       "3           Private          Urban             171.23  34.4           smokes   \n",
       "4     Self-employed          Rural             174.12  24.0     never smoked   \n",
       "...             ...            ...                ...   ...              ...   \n",
       "5105        Private          Urban              83.75   NaN     never smoked   \n",
       "5106  Self-employed          Urban             125.20  40.0     never smoked   \n",
       "5107  Self-employed          Rural              82.99  30.6     never smoked   \n",
       "5108        Private          Rural             166.29  25.6  formerly smoked   \n",
       "5109       Govt_job          Urban              85.28  26.2          Unknown   \n",
       "\n",
       "      stroke  \n",
       "0          1  \n",
       "1          1  \n",
       "2          1  \n",
       "3          1  \n",
       "4          1  \n",
       "...      ...  \n",
       "5105       0  \n",
       "5106       0  \n",
       "5107       0  \n",
       "5108       0  \n",
       "5109       0  \n",
       "\n",
       "[5110 rows x 12 columns]"
      ]
     },
     "execution_count": 27,
     "metadata": {},
     "output_type": "execute_result"
    }
   ],
   "source": [
    "dataset = pd.read_csv('Stroke.csv')\n",
    "dataset"
   ]
  },
  {
   "cell_type": "markdown",
   "id": "eb7538eb-9181-45b3-bc1c-0e722c96e995",
   "metadata": {},
   "source": [
    "# INFO DATASET\n",
    "Jumlah record, Nama attribute, Jumlah attribute dengan tipe objek, Jumlah attribute dengan tipe\n",
    "angka."
   ]
  },
  {
   "cell_type": "code",
   "execution_count": 28,
   "id": "3e06d784-6e1d-4f2b-bb46-cdfdc4462acd",
   "metadata": {},
   "outputs": [
    {
     "name": "stdout",
     "output_type": "stream",
     "text": [
      "<class 'pandas.core.frame.DataFrame'>\n",
      "RangeIndex: 5110 entries, 0 to 5109\n",
      "Data columns (total 12 columns):\n",
      " #   Column             Non-Null Count  Dtype  \n",
      "---  ------             --------------  -----  \n",
      " 0   id                 5110 non-null   int64  \n",
      " 1   gender             5110 non-null   object \n",
      " 2   age                5110 non-null   float64\n",
      " 3   hypertension       5110 non-null   int64  \n",
      " 4   heart_disease      5110 non-null   int64  \n",
      " 5   ever_married       5110 non-null   object \n",
      " 6   work_type          5110 non-null   object \n",
      " 7   Residence_type     5110 non-null   object \n",
      " 8   avg_glucose_level  5110 non-null   float64\n",
      " 9   bmi                4909 non-null   float64\n",
      " 10  smoking_status     5110 non-null   object \n",
      " 11  stroke             5110 non-null   int64  \n",
      "dtypes: float64(3), int64(4), object(5)\n",
      "memory usage: 479.2+ KB\n"
     ]
    }
   ],
   "source": [
    "dataset.info()"
   ]
  },
  {
   "cell_type": "markdown",
   "id": "680fdb86-2e90-488a-b9be-df8a70df2b39",
   "metadata": {},
   "source": [
    "## JUMLAH RECORD"
   ]
  },
  {
   "cell_type": "code",
   "execution_count": 29,
   "id": "211b2083-be06-4501-bee3-29a50389d989",
   "metadata": {},
   "outputs": [
    {
     "name": "stdout",
     "output_type": "stream",
     "text": [
      "Jumlah Record 5110\n"
     ]
    }
   ],
   "source": [
    "Jumlah_Record = len(dataset.index)\n",
    "print(\"Jumlah Record\", Jumlah_Record)"
   ]
  },
  {
   "cell_type": "markdown",
   "id": "d7d41273-e68b-49c0-8915-ef8c72cd3613",
   "metadata": {},
   "source": [
    "**NAMA ATRIBUT**"
   ]
  },
  {
   "cell_type": "code",
   "execution_count": 30,
   "id": "a08ce760-0447-4b27-9764-0918cb1bcf26",
   "metadata": {},
   "outputs": [
    {
     "name": "stdout",
     "output_type": "stream",
     "text": [
      "Nama Atribut :\n",
      " id\n",
      "gender\n",
      "age\n",
      "hypertension\n",
      "heart_disease\n",
      "ever_married\n",
      "work_type\n",
      "Residence_type\n",
      "avg_glucose_level\n",
      "bmi\n",
      "smoking_status\n",
      "stroke\n"
     ]
    }
   ],
   "source": [
    "Data_Atribut = list(dataset.columns)\n",
    "Nama_Atribut = \"\\n\".join(Data_Atribut)\n",
    "print(\"Nama Atribut :\\n\",Nama_Atribut)"
   ]
  },
  {
   "cell_type": "markdown",
   "id": "284e1b2c-f8f6-4ac0-9fcf-e6f828472e5b",
   "metadata": {},
   "source": [
    "**JUMLAH ATRIBUT**"
   ]
  },
  {
   "cell_type": "code",
   "execution_count": 31,
   "id": "78a76c8b-d968-43fc-9a3f-c87b7864a929",
   "metadata": {},
   "outputs": [
    {
     "name": "stdout",
     "output_type": "stream",
     "text": [
      "Jumlah Atribut 12\n"
     ]
    }
   ],
   "source": [
    "Jumlah_Atribut = dataset.shape[1]\n",
    "print(\"Jumlah Atribut\", Jumlah_Atribut)"
   ]
  },
  {
   "cell_type": "markdown",
   "id": "c153f884-7a39-4fe2-9101-51432fe745a2",
   "metadata": {},
   "source": [
    "**ATRIBUT TIPE OBJEK**"
   ]
  },
  {
   "cell_type": "code",
   "execution_count": 32,
   "id": "f5abcba3-a339-4989-b86c-e01bcf002a5c",
   "metadata": {},
   "outputs": [
    {
     "name": "stdout",
     "output_type": "stream",
     "text": [
      "Jumlah Atribut dengan tipe objek = 5\n"
     ]
    }
   ],
   "source": [
    "Objek = len(dataset.dtypes[dataset.dtypes == 'object'])\n",
    "print(\"Jumlah Atribut dengan tipe objek =\", Objek)"
   ]
  },
  {
   "cell_type": "markdown",
   "id": "11aad44f-7fee-45ad-8e24-06ab96bfd4c2",
   "metadata": {},
   "source": [
    "**ATRIBUT TIPE ANGKA**"
   ]
  },
  {
   "cell_type": "code",
   "execution_count": 33,
   "id": "c1cade5c-d68a-48b8-9602-192a08f92f30",
   "metadata": {},
   "outputs": [
    {
     "name": "stdout",
     "output_type": "stream",
     "text": [
      "Jumlah Atribut dengan tipe objek = 7\n"
     ]
    }
   ],
   "source": [
    "Int = len(dataset.dtypes[dataset.dtypes == 'int64'])\n",
    "Float = len(dataset.dtypes[dataset.dtypes == 'float64'])\n",
    "Angka = Int + Float\n",
    "print(\"Jumlah Atribut dengan tipe objek =\", Angka)"
   ]
  },
  {
   "cell_type": "markdown",
   "id": "ecee3050-f893-4403-867d-0ae82daa67f1",
   "metadata": {},
   "source": [
    "**ATRIBUT NILAI NULL**"
   ]
  },
  {
   "cell_type": "code",
   "execution_count": 34,
   "id": "79f0ca4c-cc83-41e5-bc75-cd800e9e17a6",
   "metadata": {},
   "outputs": [
    {
     "name": "stdout",
     "output_type": "stream",
     "text": [
      "Jumlah Atribut yang memiliki nilai null = 1\n"
     ]
    }
   ],
   "source": [
    "Null = dataset.isnull().any().sum()\n",
    "print(\"Jumlah Atribut yang memiliki nilai null =\", Null)"
   ]
  },
  {
   "cell_type": "markdown",
   "id": "5fb84439-b747-464e-be93-4922290ec374",
   "metadata": {},
   "source": [
    "# TAMPILAN DALAM DICTIONARY"
   ]
  },
  {
   "cell_type": "code",
   "execution_count": 35,
   "id": "1070496e-3922-496e-b7ec-545c805cc014",
   "metadata": {},
   "outputs": [
    {
     "name": "stdout",
     "output_type": "stream",
     "text": [
      "+-----------------+-------------------+-----------------------+----------------------+----------------------+\n",
      "|   Jumlah Record | Nama Atribut      |   Atribut Tipe Object |   Atribut Tipe Angka |   Atribut Nilai NULL |\n",
      "|-----------------+-------------------+-----------------------+----------------------+----------------------|\n",
      "|              12 | id                |                     5 |                    7 |                    1 |\n",
      "|                 | gender            |                       |                      |                      |\n",
      "|                 | age               |                       |                      |                      |\n",
      "|                 | hypertension      |                       |                      |                      |\n",
      "|                 | heart_disease     |                       |                      |                      |\n",
      "|                 | ever_married      |                       |                      |                      |\n",
      "|                 | work_type         |                       |                      |                      |\n",
      "|                 | Residence_type    |                       |                      |                      |\n",
      "|                 | avg_glucose_level |                       |                      |                      |\n",
      "|                 | bmi               |                       |                      |                      |\n",
      "|                 | smoking_status    |                       |                      |                      |\n",
      "|                 | stroke            |                       |                      |                      |\n",
      "+-----------------+-------------------+-----------------------+----------------------+----------------------+\n"
     ]
    }
   ],
   "source": [
    "Dict = {\n",
    "    \"Jumlah Record\" : [Jumlah_Atribut],\n",
    "    \"Nama Atribut\":[Nama_Atribut],\n",
    "    \"Atribut Tipe Object\" : [Objek],\n",
    "    \"Atribut Tipe Angka\" : [Angka],\n",
    "    \"Atribut Nilai NULL\" : [Null],\n",
    "}\n",
    "\n",
    "tabel = pd.DataFrame(Dict)\n",
    "print(tabulate(tabel, headers='keys', tablefmt='psql', showindex=False))"
   ]
  },
  {
   "cell_type": "markdown",
   "id": "a7af0cc0-2220-49f4-abb1-4e57d381082a",
   "metadata": {},
   "source": [
    "## Rata-rata, Standar deviasi, Nilai minimum, Nilai maksimum, Q1, Q2, dan Q3 dari attribute bertipe angka."
   ]
  },
  {
   "cell_type": "code",
   "execution_count": 36,
   "id": "82d1a099-a152-4a24-ad11-8dc5f8c2d428",
   "metadata": {},
   "outputs": [
    {
     "data": {
      "text/html": [
       "<div>\n",
       "<style scoped>\n",
       "    .dataframe tbody tr th:only-of-type {\n",
       "        vertical-align: middle;\n",
       "    }\n",
       "\n",
       "    .dataframe tbody tr th {\n",
       "        vertical-align: top;\n",
       "    }\n",
       "\n",
       "    .dataframe thead th {\n",
       "        text-align: right;\n",
       "    }\n",
       "</style>\n",
       "<table border=\"1\" class=\"dataframe\">\n",
       "  <thead>\n",
       "    <tr style=\"text-align: right;\">\n",
       "      <th></th>\n",
       "      <th>id</th>\n",
       "      <th>age</th>\n",
       "      <th>hypertension</th>\n",
       "      <th>heart_disease</th>\n",
       "      <th>avg_glucose_level</th>\n",
       "      <th>bmi</th>\n",
       "      <th>stroke</th>\n",
       "    </tr>\n",
       "  </thead>\n",
       "  <tbody>\n",
       "    <tr>\n",
       "      <th>Jumlah Data</th>\n",
       "      <td>5110.000000</td>\n",
       "      <td>5110.000000</td>\n",
       "      <td>5110.000000</td>\n",
       "      <td>5110.000000</td>\n",
       "      <td>5110.000000</td>\n",
       "      <td>4909.000000</td>\n",
       "      <td>5110.000000</td>\n",
       "    </tr>\n",
       "    <tr>\n",
       "      <th>mean</th>\n",
       "      <td>36517.829354</td>\n",
       "      <td>43.226614</td>\n",
       "      <td>0.097456</td>\n",
       "      <td>0.054012</td>\n",
       "      <td>106.147677</td>\n",
       "      <td>28.893237</td>\n",
       "      <td>0.048728</td>\n",
       "    </tr>\n",
       "    <tr>\n",
       "      <th>Standar Deviasi</th>\n",
       "      <td>21161.721625</td>\n",
       "      <td>22.612647</td>\n",
       "      <td>0.296607</td>\n",
       "      <td>0.226063</td>\n",
       "      <td>45.283560</td>\n",
       "      <td>7.854067</td>\n",
       "      <td>0.215320</td>\n",
       "    </tr>\n",
       "    <tr>\n",
       "      <th>Nilai Minimum</th>\n",
       "      <td>67.000000</td>\n",
       "      <td>0.080000</td>\n",
       "      <td>0.000000</td>\n",
       "      <td>0.000000</td>\n",
       "      <td>55.120000</td>\n",
       "      <td>10.300000</td>\n",
       "      <td>0.000000</td>\n",
       "    </tr>\n",
       "    <tr>\n",
       "      <th>Q1</th>\n",
       "      <td>17741.250000</td>\n",
       "      <td>25.000000</td>\n",
       "      <td>0.000000</td>\n",
       "      <td>0.000000</td>\n",
       "      <td>77.245000</td>\n",
       "      <td>23.500000</td>\n",
       "      <td>0.000000</td>\n",
       "    </tr>\n",
       "    <tr>\n",
       "      <th>Q2</th>\n",
       "      <td>36932.000000</td>\n",
       "      <td>45.000000</td>\n",
       "      <td>0.000000</td>\n",
       "      <td>0.000000</td>\n",
       "      <td>91.885000</td>\n",
       "      <td>28.100000</td>\n",
       "      <td>0.000000</td>\n",
       "    </tr>\n",
       "    <tr>\n",
       "      <th>Q3</th>\n",
       "      <td>54682.000000</td>\n",
       "      <td>61.000000</td>\n",
       "      <td>0.000000</td>\n",
       "      <td>0.000000</td>\n",
       "      <td>114.090000</td>\n",
       "      <td>33.100000</td>\n",
       "      <td>0.000000</td>\n",
       "    </tr>\n",
       "    <tr>\n",
       "      <th>Nilai Maksimal</th>\n",
       "      <td>72940.000000</td>\n",
       "      <td>82.000000</td>\n",
       "      <td>1.000000</td>\n",
       "      <td>1.000000</td>\n",
       "      <td>271.740000</td>\n",
       "      <td>97.600000</td>\n",
       "      <td>1.000000</td>\n",
       "    </tr>\n",
       "  </tbody>\n",
       "</table>\n",
       "</div>"
      ],
      "text/plain": [
       "                           id          age  hypertension  heart_disease  \\\n",
       "Jumlah Data       5110.000000  5110.000000   5110.000000    5110.000000   \n",
       "mean             36517.829354    43.226614      0.097456       0.054012   \n",
       "Standar Deviasi  21161.721625    22.612647      0.296607       0.226063   \n",
       "Nilai Minimum       67.000000     0.080000      0.000000       0.000000   \n",
       "Q1               17741.250000    25.000000      0.000000       0.000000   \n",
       "Q2               36932.000000    45.000000      0.000000       0.000000   \n",
       "Q3               54682.000000    61.000000      0.000000       0.000000   \n",
       "Nilai Maksimal   72940.000000    82.000000      1.000000       1.000000   \n",
       "\n",
       "                 avg_glucose_level          bmi       stroke  \n",
       "Jumlah Data            5110.000000  4909.000000  5110.000000  \n",
       "mean                    106.147677    28.893237     0.048728  \n",
       "Standar Deviasi          45.283560     7.854067     0.215320  \n",
       "Nilai Minimum            55.120000    10.300000     0.000000  \n",
       "Q1                       77.245000    23.500000     0.000000  \n",
       "Q2                       91.885000    28.100000     0.000000  \n",
       "Q3                      114.090000    33.100000     0.000000  \n",
       "Nilai Maksimal          271.740000    97.600000     1.000000  "
      ]
     },
     "execution_count": 36,
     "metadata": {},
     "output_type": "execute_result"
    }
   ],
   "source": [
    "desc = dataset.describe()\n",
    "desc.rename(index = {\"count\": \"Jumlah Data\",\"Mean\": \"Rata Rata\",\"std\": \"Standar Deviasi\", \"min\": \"Nilai Minimum\", \n",
    "                     \"25%\": \"Q1\", \"50%\": \"Q2\", \"75%\": \"Q3\", \"max\": \"Nilai Maksimal\"},inplace = True)\n",
    "desc"
   ]
  },
  {
   "cell_type": "markdown",
   "id": "b920fb6c-05b9-4c7b-bbbc-9c06f09fe7fd",
   "metadata": {},
   "source": [
    "# NILAI KORELASI"
   ]
  },
  {
   "cell_type": "code",
   "execution_count": 37,
   "id": "4b582ed0-47d9-4042-9a8c-78ea0e50b033",
   "metadata": {},
   "outputs": [
    {
     "data": {
      "text/html": [
       "<div>\n",
       "<style scoped>\n",
       "    .dataframe tbody tr th:only-of-type {\n",
       "        vertical-align: middle;\n",
       "    }\n",
       "\n",
       "    .dataframe tbody tr th {\n",
       "        vertical-align: top;\n",
       "    }\n",
       "\n",
       "    .dataframe thead th {\n",
       "        text-align: right;\n",
       "    }\n",
       "</style>\n",
       "<table border=\"1\" class=\"dataframe\">\n",
       "  <thead>\n",
       "    <tr style=\"text-align: right;\">\n",
       "      <th></th>\n",
       "      <th>id</th>\n",
       "      <th>age</th>\n",
       "      <th>hypertension</th>\n",
       "      <th>heart_disease</th>\n",
       "      <th>avg_glucose_level</th>\n",
       "      <th>bmi</th>\n",
       "      <th>stroke</th>\n",
       "    </tr>\n",
       "  </thead>\n",
       "  <tbody>\n",
       "    <tr>\n",
       "      <th>id</th>\n",
       "      <td>1.000000</td>\n",
       "      <td>0.003538</td>\n",
       "      <td>0.003550</td>\n",
       "      <td>-0.001296</td>\n",
       "      <td>0.001092</td>\n",
       "      <td>0.003084</td>\n",
       "      <td>0.006388</td>\n",
       "    </tr>\n",
       "    <tr>\n",
       "      <th>age</th>\n",
       "      <td>0.003538</td>\n",
       "      <td>1.000000</td>\n",
       "      <td>0.276398</td>\n",
       "      <td>0.263796</td>\n",
       "      <td>0.238171</td>\n",
       "      <td>0.333398</td>\n",
       "      <td>0.245257</td>\n",
       "    </tr>\n",
       "    <tr>\n",
       "      <th>hypertension</th>\n",
       "      <td>0.003550</td>\n",
       "      <td>0.276398</td>\n",
       "      <td>1.000000</td>\n",
       "      <td>0.108306</td>\n",
       "      <td>0.174474</td>\n",
       "      <td>0.167811</td>\n",
       "      <td>0.127904</td>\n",
       "    </tr>\n",
       "    <tr>\n",
       "      <th>heart_disease</th>\n",
       "      <td>-0.001296</td>\n",
       "      <td>0.263796</td>\n",
       "      <td>0.108306</td>\n",
       "      <td>1.000000</td>\n",
       "      <td>0.161857</td>\n",
       "      <td>0.041357</td>\n",
       "      <td>0.134914</td>\n",
       "    </tr>\n",
       "    <tr>\n",
       "      <th>avg_glucose_level</th>\n",
       "      <td>0.001092</td>\n",
       "      <td>0.238171</td>\n",
       "      <td>0.174474</td>\n",
       "      <td>0.161857</td>\n",
       "      <td>1.000000</td>\n",
       "      <td>0.175502</td>\n",
       "      <td>0.131945</td>\n",
       "    </tr>\n",
       "    <tr>\n",
       "      <th>bmi</th>\n",
       "      <td>0.003084</td>\n",
       "      <td>0.333398</td>\n",
       "      <td>0.167811</td>\n",
       "      <td>0.041357</td>\n",
       "      <td>0.175502</td>\n",
       "      <td>1.000000</td>\n",
       "      <td>0.042374</td>\n",
       "    </tr>\n",
       "    <tr>\n",
       "      <th>stroke</th>\n",
       "      <td>0.006388</td>\n",
       "      <td>0.245257</td>\n",
       "      <td>0.127904</td>\n",
       "      <td>0.134914</td>\n",
       "      <td>0.131945</td>\n",
       "      <td>0.042374</td>\n",
       "      <td>1.000000</td>\n",
       "    </tr>\n",
       "  </tbody>\n",
       "</table>\n",
       "</div>"
      ],
      "text/plain": [
       "                         id       age  hypertension  heart_disease  \\\n",
       "id                 1.000000  0.003538      0.003550      -0.001296   \n",
       "age                0.003538  1.000000      0.276398       0.263796   \n",
       "hypertension       0.003550  0.276398      1.000000       0.108306   \n",
       "heart_disease     -0.001296  0.263796      0.108306       1.000000   \n",
       "avg_glucose_level  0.001092  0.238171      0.174474       0.161857   \n",
       "bmi                0.003084  0.333398      0.167811       0.041357   \n",
       "stroke             0.006388  0.245257      0.127904       0.134914   \n",
       "\n",
       "                   avg_glucose_level       bmi    stroke  \n",
       "id                          0.001092  0.003084  0.006388  \n",
       "age                         0.238171  0.333398  0.245257  \n",
       "hypertension                0.174474  0.167811  0.127904  \n",
       "heart_disease               0.161857  0.041357  0.134914  \n",
       "avg_glucose_level           1.000000  0.175502  0.131945  \n",
       "bmi                         0.175502  1.000000  0.042374  \n",
       "stroke                      0.131945  0.042374  1.000000  "
      ]
     },
     "execution_count": 37,
     "metadata": {},
     "output_type": "execute_result"
    }
   ],
   "source": [
    "dataset.corr()"
   ]
  },
  {
   "cell_type": "markdown",
   "id": "f70e00c5-80a7-468e-8d21-566020410faa",
   "metadata": {},
   "source": [
    "# Attribute bertipe angka menjadi desimal 3 angka dibelakang koma\n",
    "\n",
    "Menggunakan atribut id"
   ]
  },
  {
   "cell_type": "code",
   "execution_count": 38,
   "id": "89bae48d-38ac-4cc3-a293-388ac0435c65",
   "metadata": {},
   "outputs": [
    {
     "data": {
      "text/plain": [
       "0        9.046\n",
       "1       51.676\n",
       "2       31.112\n",
       "3       60.182\n",
       "4        1.665\n",
       "         ...  \n",
       "5105    18.234\n",
       "5106    44.873\n",
       "5107    19.723\n",
       "5108    37.544\n",
       "5109    44.679\n",
       "Name: id, Length: 5110, dtype: float64"
      ]
     },
     "execution_count": 38,
     "metadata": {},
     "output_type": "execute_result"
    }
   ],
   "source": [
    "dataset['id']*0.001"
   ]
  },
  {
   "cell_type": "markdown",
   "id": "c5c295a6-411a-42bf-b613-7f5a83e7ae81",
   "metadata": {},
   "source": [
    "# 10 Record pertama bertipe Angka"
   ]
  },
  {
   "cell_type": "code",
   "execution_count": 39,
   "id": "af7e2c5b-4daf-474e-b52c-641f230ce4d9",
   "metadata": {},
   "outputs": [
    {
     "data": {
      "text/html": [
       "<div>\n",
       "<style scoped>\n",
       "    .dataframe tbody tr th:only-of-type {\n",
       "        vertical-align: middle;\n",
       "    }\n",
       "\n",
       "    .dataframe tbody tr th {\n",
       "        vertical-align: top;\n",
       "    }\n",
       "\n",
       "    .dataframe thead th {\n",
       "        text-align: right;\n",
       "    }\n",
       "</style>\n",
       "<table border=\"1\" class=\"dataframe\">\n",
       "  <thead>\n",
       "    <tr style=\"text-align: right;\">\n",
       "      <th></th>\n",
       "      <th>id</th>\n",
       "      <th>age</th>\n",
       "      <th>hypertension</th>\n",
       "      <th>heart_disease</th>\n",
       "      <th>avg_glucose_level</th>\n",
       "      <th>bmi</th>\n",
       "      <th>stroke</th>\n",
       "    </tr>\n",
       "  </thead>\n",
       "  <tbody>\n",
       "    <tr>\n",
       "      <th>0</th>\n",
       "      <td>9046</td>\n",
       "      <td>67.0</td>\n",
       "      <td>0</td>\n",
       "      <td>1</td>\n",
       "      <td>228.69</td>\n",
       "      <td>36.6</td>\n",
       "      <td>1</td>\n",
       "    </tr>\n",
       "    <tr>\n",
       "      <th>1</th>\n",
       "      <td>51676</td>\n",
       "      <td>61.0</td>\n",
       "      <td>0</td>\n",
       "      <td>0</td>\n",
       "      <td>202.21</td>\n",
       "      <td>NaN</td>\n",
       "      <td>1</td>\n",
       "    </tr>\n",
       "    <tr>\n",
       "      <th>2</th>\n",
       "      <td>31112</td>\n",
       "      <td>80.0</td>\n",
       "      <td>0</td>\n",
       "      <td>1</td>\n",
       "      <td>105.92</td>\n",
       "      <td>32.5</td>\n",
       "      <td>1</td>\n",
       "    </tr>\n",
       "    <tr>\n",
       "      <th>3</th>\n",
       "      <td>60182</td>\n",
       "      <td>49.0</td>\n",
       "      <td>0</td>\n",
       "      <td>0</td>\n",
       "      <td>171.23</td>\n",
       "      <td>34.4</td>\n",
       "      <td>1</td>\n",
       "    </tr>\n",
       "    <tr>\n",
       "      <th>4</th>\n",
       "      <td>1665</td>\n",
       "      <td>79.0</td>\n",
       "      <td>1</td>\n",
       "      <td>0</td>\n",
       "      <td>174.12</td>\n",
       "      <td>24.0</td>\n",
       "      <td>1</td>\n",
       "    </tr>\n",
       "    <tr>\n",
       "      <th>5</th>\n",
       "      <td>56669</td>\n",
       "      <td>81.0</td>\n",
       "      <td>0</td>\n",
       "      <td>0</td>\n",
       "      <td>186.21</td>\n",
       "      <td>29.0</td>\n",
       "      <td>1</td>\n",
       "    </tr>\n",
       "    <tr>\n",
       "      <th>6</th>\n",
       "      <td>53882</td>\n",
       "      <td>74.0</td>\n",
       "      <td>1</td>\n",
       "      <td>1</td>\n",
       "      <td>70.09</td>\n",
       "      <td>27.4</td>\n",
       "      <td>1</td>\n",
       "    </tr>\n",
       "    <tr>\n",
       "      <th>7</th>\n",
       "      <td>10434</td>\n",
       "      <td>69.0</td>\n",
       "      <td>0</td>\n",
       "      <td>0</td>\n",
       "      <td>94.39</td>\n",
       "      <td>22.8</td>\n",
       "      <td>1</td>\n",
       "    </tr>\n",
       "    <tr>\n",
       "      <th>8</th>\n",
       "      <td>27419</td>\n",
       "      <td>59.0</td>\n",
       "      <td>0</td>\n",
       "      <td>0</td>\n",
       "      <td>76.15</td>\n",
       "      <td>NaN</td>\n",
       "      <td>1</td>\n",
       "    </tr>\n",
       "    <tr>\n",
       "      <th>9</th>\n",
       "      <td>60491</td>\n",
       "      <td>78.0</td>\n",
       "      <td>0</td>\n",
       "      <td>0</td>\n",
       "      <td>58.57</td>\n",
       "      <td>24.2</td>\n",
       "      <td>1</td>\n",
       "    </tr>\n",
       "  </tbody>\n",
       "</table>\n",
       "</div>"
      ],
      "text/plain": [
       "      id   age  hypertension  heart_disease  avg_glucose_level   bmi  stroke\n",
       "0   9046  67.0             0              1             228.69  36.6       1\n",
       "1  51676  61.0             0              0             202.21   NaN       1\n",
       "2  31112  80.0             0              1             105.92  32.5       1\n",
       "3  60182  49.0             0              0             171.23  34.4       1\n",
       "4   1665  79.0             1              0             174.12  24.0       1\n",
       "5  56669  81.0             0              0             186.21  29.0       1\n",
       "6  53882  74.0             1              1              70.09  27.4       1\n",
       "7  10434  69.0             0              0              94.39  22.8       1\n",
       "8  27419  59.0             0              0              76.15   NaN       1\n",
       "9  60491  78.0             0              0              58.57  24.2       1"
      ]
     },
     "execution_count": 39,
     "metadata": {},
     "output_type": "execute_result"
    }
   ],
   "source": [
    "numerics = [ 'int64', 'float64']\n",
    "number = dataset.select_dtypes(include=numerics).copy()\n",
    "number.head(10)"
   ]
  },
  {
   "cell_type": "markdown",
   "id": "1465b1fd-6b50-4807-8d36-759c1200a95e",
   "metadata": {},
   "source": [
    "# Menyimpan dataset dengan attribute bertipe angka ke dalam file CSV."
   ]
  },
  {
   "cell_type": "code",
   "execution_count": 40,
   "id": "d1cc3cd1-bfd3-417e-98c5-3bdf8b89b267",
   "metadata": {},
   "outputs": [],
   "source": [
    "number.to_csv('Stroke_Angka.csv')"
   ]
  }
 ],
 "metadata": {
  "kernelspec": {
   "display_name": "alan_032",
   "language": "python",
   "name": "alan_032"
  },
  "language_info": {
   "codemirror_mode": {
    "name": "ipython",
    "version": 3
   },
   "file_extension": ".py",
   "mimetype": "text/x-python",
   "name": "python",
   "nbconvert_exporter": "python",
   "pygments_lexer": "ipython3",
   "version": "3.10.7"
  }
 },
 "nbformat": 4,
 "nbformat_minor": 5
}
