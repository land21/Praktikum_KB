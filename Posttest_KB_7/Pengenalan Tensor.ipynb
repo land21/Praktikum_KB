{
 "cells": [
  {
   "cell_type": "markdown",
   "id": "4e24f4b2",
   "metadata": {},
   "source": [
    "# PENGENALAN TENSORFLOW\n",
    "\n",
    "Alan Nuzulan\n",
    "2009106032"
   ]
  },
  {
   "cell_type": "code",
   "execution_count": 18,
   "id": "5a78cb44",
   "metadata": {},
   "outputs": [],
   "source": [
    "#Import Tensor\n",
    "\n",
    "import tensorflow as tf"
   ]
  },
  {
   "cell_type": "code",
   "execution_count": 19,
   "id": "5c128dfb",
   "metadata": {},
   "outputs": [
    {
     "name": "stdout",
     "output_type": "stream",
     "text": [
      "<tf.Variable 'Variable:0' shape=(5, 5) dtype=float32, numpy=\n",
      "array([[10.477187 ,  9.853338 , 10.372623 ,  9.681533 ,  7.3481894],\n",
      "       [ 9.123603 , 11.110659 ,  8.618059 , 11.183033 , 11.970716 ],\n",
      "       [10.295937 ,  8.934179 ,  9.682997 ,  9.371412 ,  9.815532 ],\n",
      "       [ 9.362932 , 10.718375 , 10.179168 ,  9.315796 ,  9.800442 ],\n",
      "       [10.189053 , 11.337361 , 10.239808 ,  8.87012  ,  9.929071 ]],\n",
      "      dtype=float32)>\n"
     ]
    }
   ],
   "source": [
    "#Membuat tensor dengan nilai random dan shape [5,5] serta nilai rata ratanya adalah 10\n",
    "\n",
    "random_tensor = tf.Variable(tf.random.normal([5,5],mean=10))\n",
    "print(random_tensor)"
   ]
  },
  {
   "cell_type": "code",
   "execution_count": 20,
   "id": "36c0d7a6",
   "metadata": {},
   "outputs": [
    {
     "name": "stdout",
     "output_type": "stream",
     "text": [
      "tf.Tensor(\n",
      "[[  2.   3.   5.   7.  11.]\n",
      " [ 13.  17.  19.  23.  29.]\n",
      " [ 31.  37.  41.  43.  47.]\n",
      " [ 53.  59.  61.  67.  71.]\n",
      " [ 73.  79.  83.  89. 101.]], shape=(5, 5), dtype=float32)\n"
     ]
    }
   ],
   "source": [
    "#Membuat list bilangan prima, lalu menjadikannya tensor [5,5] dengan type float32\n",
    "\n",
    "prima = [2,3,5,7,11,13,17,19,23,29,31,37,41,43,47,53,59,61,67,71,73,79,83,89,101]\n",
    "prime_tensor = tf.Variable(tf.convert_to_tensor(prima,dtype=tf.float32))\n",
    "prime_tensor = tf.reshape(prime_tensor,[5,5])\n",
    "print(prime_tensor)"
   ]
  },
  {
   "cell_type": "code",
   "execution_count": 21,
   "id": "06869189",
   "metadata": {},
   "outputs": [
    {
     "name": "stdout",
     "output_type": "stream",
     "text": [
      "(5, 5)\n"
     ]
    }
   ],
   "source": [
    "#Menampilkan dimensi dari random_tensor\n",
    "\n",
    "print(random_tensor.get_shape())"
   ]
  },
  {
   "cell_type": "code",
   "execution_count": 22,
   "id": "d31596af",
   "metadata": {},
   "outputs": [
    {
     "name": "stdout",
     "output_type": "stream",
     "text": [
      "(5, 5)\n"
     ]
    }
   ],
   "source": [
    "#Menampilkan dimensi dari prime_tensor\n",
    "\n",
    "print(prime_tensor.get_shape())"
   ]
  },
  {
   "cell_type": "code",
   "execution_count": 23,
   "id": "7306ecf1",
   "metadata": {},
   "outputs": [
    {
     "name": "stdout",
     "output_type": "stream",
     "text": [
      "tf.Tensor(\n",
      "[[ 12.477187  12.853338  15.372623  16.681534  18.34819 ]\n",
      " [ 22.123604  28.110659  27.61806   34.183033  40.97072 ]\n",
      " [ 41.295937  45.93418   50.683     52.371414  56.815533]\n",
      " [ 62.36293   69.718376  71.17917   76.315796  80.800446]\n",
      " [ 83.18906   90.337364  93.23981   97.87012  110.92907 ]], shape=(5, 5), dtype=float32)\n"
     ]
    }
   ],
   "source": [
    "#Menambahkan 2 tensor yang sudah di buat\n",
    "\n",
    "print(tf.add(random_tensor, prime_tensor))"
   ]
  },
  {
   "cell_type": "code",
   "execution_count": 24,
   "id": "bc566a8e",
   "metadata": {},
   "outputs": [
    {
     "name": "stdout",
     "output_type": "stream",
     "text": [
      "tf.Tensor(\n",
      "[[  8.477187    6.8533382   5.3726234   2.6815329  -3.6518106]\n",
      " [ -3.8763971  -5.8893414 -10.381941  -11.816967  -17.029284 ]\n",
      " [-20.704063  -28.06582   -31.317003  -33.628586  -37.184467 ]\n",
      " [-43.63707   -48.281624  -50.82083   -57.684204  -61.19956  ]\n",
      " [-62.810947  -67.662636  -72.76019   -80.12988   -91.07093  ]], shape=(5, 5), dtype=float32)\n"
     ]
    }
   ],
   "source": [
    "#Mengurangi random_tensor dengan prime_tensor yang sudah di buat\n",
    "\n",
    "print(tf.math.subtract(random_tensor, prime_tensor))"
   ]
  },
  {
   "cell_type": "code",
   "execution_count": 25,
   "id": "89bb84f8",
   "metadata": {},
   "outputs": [
    {
     "name": "stdout",
     "output_type": "stream",
     "text": [
      "tf.Tensor(\n",
      "[[  20.954374   29.560015   51.863117   67.77073    80.830086]\n",
      " [ 118.606834  188.8812    163.74312   257.20975   347.1508  ]\n",
      " [ 319.17404   330.56464   397.00287   402.97073   461.33    ]\n",
      " [ 496.2354    632.38416   620.92926   624.1583    695.83136 ]\n",
      " [ 743.80084   895.65155   849.90405   789.4407   1002.83624 ]], shape=(5, 5), dtype=float32)\n"
     ]
    }
   ],
   "source": [
    "#Mengalikan 2 tensor yang sudah di buat\n",
    "\n",
    "print(tf.multiply(random_tensor, prime_tensor))"
   ]
  },
  {
   "cell_type": "code",
   "execution_count": 26,
   "id": "16520f09",
   "metadata": {},
   "outputs": [
    {
     "name": "stdout",
     "output_type": "stream",
     "text": [
      "tf.Tensor(\n",
      "[[5.2385936  3.284446   2.0745246  1.3830761  0.6680172 ]\n",
      " [0.7018156  0.65356815 0.45358205 0.48621884 0.41278332]\n",
      " [0.33212698 0.2414643  0.23617065 0.21793982 0.2088411 ]\n",
      " [0.17665909 0.18166737 0.1668716  0.13904174 0.13803439]\n",
      " [0.13957606 0.14351091 0.12337118 0.09966427 0.09830764]], shape=(5, 5), dtype=float32)\n"
     ]
    }
   ],
   "source": [
    "#Membagi random_tensor dengan prime_tensor yang sudah di buat\n",
    "\n",
    "print(tf.divide(random_tensor, prime_tensor))"
   ]
  },
  {
   "cell_type": "code",
   "execution_count": 27,
   "id": "c5de5ad1",
   "metadata": {},
   "outputs": [
    {
     "name": "stdout",
     "output_type": "stream",
     "text": [
      "tf.Tensor(\n",
      "[[1520.1382 1734.4427 1865.3501 2048.6414 2318.0652]\n",
      " [1896.4087 2140.6057 2285.7954 2504.6438 2830.6553]\n",
      " [1650.1278 1869.3801 2004.5773 2195.3936 2484.1863]\n",
      " [1682.7883 1910.7972 2049.51   2246.165  2543.5122]\n",
      " [1680.1365 1909.9088 2051.3777 2250.38   2554.7488]], shape=(5, 5), dtype=float32)\n"
     ]
    }
   ],
   "source": [
    "#Melakukan Matrik Multiplication random_tensor dengan prime_tensor yang sudah di buat\n",
    "\n",
    "print(tf.matmul(random_tensor, prime_tensor))"
   ]
  },
  {
   "cell_type": "code",
   "execution_count": 28,
   "id": "b4898974",
   "metadata": {},
   "outputs": [
    {
     "name": "stdout",
     "output_type": "stream",
     "text": [
      "tf.Tensor(11.970716, shape=(), dtype=float32)\n"
     ]
    }
   ],
   "source": [
    "#Mencari Nilai Maksimal dari random_tensor\n",
    "\n",
    "print(tf.reduce_max(random_tensor))"
   ]
  },
  {
   "cell_type": "code",
   "execution_count": 29,
   "id": "c97b60a2",
   "metadata": {},
   "outputs": [
    {
     "name": "stdout",
     "output_type": "stream",
     "text": [
      "tf.Tensor(7.3481894, shape=(), dtype=float32)\n"
     ]
    }
   ],
   "source": [
    "#Mencari Nilai Minimal dari random_tensor\n",
    "\n",
    "print(tf.reduce_min(random_tensor))"
   ]
  },
  {
   "cell_type": "code",
   "execution_count": 30,
   "id": "0acd2324",
   "metadata": {},
   "outputs": [
    {
     "name": "stdout",
     "output_type": "stream",
     "text": [
      "tf.Tensor(\n",
      "[[ 10.477187    9.853338   10.372623    9.681533    7.3481894]\n",
      " [  9.123603   11.110659    8.618059   11.183033   11.970716 ]\n",
      " [ 10.295937    8.934179    9.682997    9.371412    9.815532 ]\n",
      " [  9.362932   10.718375   10.179168    9.315796    9.800442 ]\n",
      " [ 10.189053   11.337361   10.239808    8.87012     9.929071 ]\n",
      " [  2.          3.          5.          7.         11.       ]\n",
      " [ 13.         17.         19.         23.         29.       ]\n",
      " [ 31.         37.         41.         43.         47.       ]\n",
      " [ 53.         59.         61.         67.         71.       ]\n",
      " [ 73.         79.         83.         89.        101.       ]], shape=(10, 5), dtype=float32)\n"
     ]
    }
   ],
   "source": [
    "#Menggabungkan dua tensor\n",
    "\n",
    "Concatenation = tf.concat([random_tensor,prime_tensor],axis=0)\n",
    "print(Concatenation)"
   ]
  },
  {
   "cell_type": "code",
   "execution_count": 31,
   "id": "8da65aa0",
   "metadata": {},
   "outputs": [
    {
     "name": "stdout",
     "output_type": "stream",
     "text": [
      "tf.Tensor(\n",
      "[11.970716  11.337361  11.183033  11.110659  10.718375  10.477187\n",
      " 10.372623  10.295937  10.239808  10.189053  10.179168   9.929071\n",
      "  9.853338   9.815532   9.800442   9.682997   9.681533   9.371412\n",
      "  9.362932   9.315796   9.123603   8.934179   8.87012    8.618059\n",
      "  7.3481894], shape=(25,), dtype=float32)\n"
     ]
    }
   ],
   "source": [
    "#Mengurutkan random_tensor dari yang terbesar\n",
    "\n",
    "random_tensorV2 = tf.reshape(random_tensor,[25])\n",
    "Sort1 = tf.sort(random_tensorV2,direction=\"DESCENDING\")\n",
    "print(Sort1)"
   ]
  },
  {
   "cell_type": "code",
   "execution_count": 32,
   "id": "7fcf766c",
   "metadata": {},
   "outputs": [
    {
     "name": "stdout",
     "output_type": "stream",
     "text": [
      "tf.Tensor(\n",
      "[101.  89.  83.  79.  73.  71.  67.  61.  59.  53.  47.  43.  41.  37.\n",
      "  31.  29.  23.  19.  17.  13.  11.   7.   5.   3.   2.], shape=(25,), dtype=float32)\n"
     ]
    }
   ],
   "source": [
    "#Mengurutkan random_tensor dari yang terbesar\n",
    "\n",
    "prime_tensorV2 = tf.reshape(prime_tensor,[25])\n",
    "Sort2 = tf.sort(prime_tensorV2,direction=\"DESCENDING\")\n",
    "print(Sort2)"
   ]
  }
 ],
 "metadata": {
  "kernelspec": {
   "display_name": "Python 3 (ipykernel)",
   "language": "python",
   "name": "python3"
  },
  "language_info": {
   "codemirror_mode": {
    "name": "ipython",
    "version": 3
   },
   "file_extension": ".py",
   "mimetype": "text/x-python",
   "name": "python",
   "nbconvert_exporter": "python",
   "pygments_lexer": "ipython3",
   "version": "3.10.7"
  }
 },
 "nbformat": 4,
 "nbformat_minor": 5
}
