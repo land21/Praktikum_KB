{
 "cells": [
  {
   "cell_type": "markdown",
   "id": "4e24f4b2",
   "metadata": {},
   "source": [
    "# PENGENALAN TENSORFLOW\n",
    "\n",
    "Alan Nuzulan\n",
    "2009106032"
   ]
  },
  {
   "cell_type": "code",
   "execution_count": 19,
   "id": "5a78cb44",
   "metadata": {},
   "outputs": [],
   "source": [
    "#Import Tensor\n",
    "\n",
    "import tensorflow as tf"
   ]
  },
  {
   "cell_type": "code",
   "execution_count": 20,
   "id": "5c128dfb",
   "metadata": {},
   "outputs": [
    {
     "data": {
      "text/plain": [
       "<tf.Variable 'Variable:0' shape=(5, 5) dtype=float32, numpy=\n",
       "array([[10.758855, 10.181848,  8.826671, 11.069616, 11.282988],\n",
       "       [10.002104,  9.135122,  9.332851, 10.353046, 11.256962],\n",
       "       [10.638362,  9.060931, 10.143249,  8.51138 ,  9.761782],\n",
       "       [10.312356,  9.97228 ,  9.124411,  9.027073, 12.035595],\n",
       "       [ 9.18998 , 10.736526,  9.12397 , 11.335119,  8.989352]],\n",
       "      dtype=float32)>"
      ]
     },
     "execution_count": 20,
     "metadata": {},
     "output_type": "execute_result"
    }
   ],
   "source": [
    "#Membuat tensor dengan nilai random dan shape [5,5] serta nilai rata ratanya adalah 10\n",
    "\n",
    "random_tensor = tf.Variable(tf.random.normal([5,5],mean=10))\n",
    "random_tensor"
   ]
  },
  {
   "cell_type": "code",
   "execution_count": 21,
   "id": "36c0d7a6",
   "metadata": {},
   "outputs": [
    {
     "data": {
      "text/plain": [
       "<tf.Tensor: shape=(5, 5), dtype=float32, numpy=\n",
       "array([[  2.,   3.,   5.,   7.,  11.],\n",
       "       [ 13.,  17.,  19.,  23.,  29.],\n",
       "       [ 31.,  37.,  41.,  43.,  47.],\n",
       "       [ 53.,  59.,  61.,  67.,  71.],\n",
       "       [ 73.,  79.,  83.,  89., 101.]], dtype=float32)>"
      ]
     },
     "execution_count": 21,
     "metadata": {},
     "output_type": "execute_result"
    }
   ],
   "source": [
    "#Membuat list bilangan prima, lalu menjadikannya tensor [5,5] dengan type float32\n",
    "\n",
    "prima = [2,3,5,7,11,13,17,19,23,29,31,37,41,43,47,53,59,61,67,71,73,79,83,89,101]\n",
    "prime_tensor = tf.Variable(tf.convert_to_tensor(prima,dtype=tf.float32))\n",
    "prime_tensor = tf.reshape(prime_tensor,[5,5])\n",
    "prime_tensor"
   ]
  },
  {
   "cell_type": "code",
   "execution_count": 22,
   "id": "06869189",
   "metadata": {},
   "outputs": [
    {
     "data": {
      "text/plain": [
       "TensorShape([5, 5])"
      ]
     },
     "execution_count": 22,
     "metadata": {},
     "output_type": "execute_result"
    }
   ],
   "source": [
    "#Menampilkan dimensi dari random_tensor\n",
    "\n",
    "random_tensor.get_shape()"
   ]
  },
  {
   "cell_type": "code",
   "execution_count": 23,
   "id": "d31596af",
   "metadata": {},
   "outputs": [
    {
     "data": {
      "text/plain": [
       "TensorShape([5, 5])"
      ]
     },
     "execution_count": 23,
     "metadata": {},
     "output_type": "execute_result"
    }
   ],
   "source": [
    "#Menampilkan dimensi dari prime_tensor\n",
    "\n",
    "prime_tensor.get_shape()"
   ]
  },
  {
   "cell_type": "code",
   "execution_count": 24,
   "id": "7306ecf1",
   "metadata": {},
   "outputs": [
    {
     "name": "stdout",
     "output_type": "stream",
     "text": [
      "tf.Tensor(\n",
      "[[ 12.758855  13.181848  13.826671  18.069616  22.282988]\n",
      " [ 23.002104  26.135122  28.332851  33.353046  40.25696 ]\n",
      " [ 41.638363  46.060932  51.14325   51.51138   56.76178 ]\n",
      " [ 63.312355  68.97228   70.12441   76.02707   83.0356  ]\n",
      " [ 82.18998   89.73653   92.12397  100.33512  109.98935 ]], shape=(5, 5), dtype=float32)\n"
     ]
    }
   ],
   "source": [
    "#Menambahkan 2 tensor yang sudah di buat\n",
    "\n",
    "print(tf.add(random_tensor, prime_tensor))"
   ]
  },
  {
   "cell_type": "code",
   "execution_count": 25,
   "id": "bc566a8e",
   "metadata": {},
   "outputs": [
    {
     "name": "stdout",
     "output_type": "stream",
     "text": [
      "tf.Tensor(\n",
      "[[  8.758855    7.1818476   3.8266706   4.0696163   0.2829876]\n",
      " [ -2.9978962  -7.8648777  -9.667149  -12.646954  -17.743038 ]\n",
      " [-20.361637  -27.939068  -30.85675   -34.48862   -37.23822  ]\n",
      " [-42.687645  -49.02772   -51.875587  -57.972927  -58.964405 ]\n",
      " [-63.81002   -68.26347   -73.87603   -77.66488   -92.01065  ]], shape=(5, 5), dtype=float32)\n"
     ]
    }
   ],
   "source": [
    "#Mengurangi random_tensor dengan prime_tensor yang sudah di buat\n",
    "\n",
    "print(tf.math.subtract(random_tensor, prime_tensor))"
   ]
  },
  {
   "cell_type": "code",
   "execution_count": 26,
   "id": "89bb84f8",
   "metadata": {},
   "outputs": [
    {
     "name": "stdout",
     "output_type": "stream",
     "text": [
      "tf.Tensor(\n",
      "[[  21.51771    30.545544   44.133354   77.48731   124.11286 ]\n",
      " [ 130.02734   155.29707   177.32417   238.12007   326.4519  ]\n",
      " [ 329.7892    335.25446   415.8732    365.98935   458.80374 ]\n",
      " [ 546.5549    588.3645    556.58905   604.8139    854.5272  ]\n",
      " [ 670.8685    848.18555   757.2895   1008.8256    907.92456 ]], shape=(5, 5), dtype=float32)\n"
     ]
    }
   ],
   "source": [
    "#Mengalikan 2 tensor yang sudah di buat\n",
    "\n",
    "print(tf.multiply(random_tensor, prime_tensor))"
   ]
  },
  {
   "cell_type": "code",
   "execution_count": 27,
   "id": "16520f09",
   "metadata": {},
   "outputs": [
    {
     "name": "stdout",
     "output_type": "stream",
     "text": [
      "tf.Tensor(\n",
      "[[5.3794274  3.3939493  1.7653341  1.5813738  1.0257262 ]\n",
      " [0.7693926  0.53736013 0.4912027  0.45013246 0.3881711 ]\n",
      " [0.34317297 0.24489003 0.2473963  0.19793907 0.20769748]\n",
      " [0.19457276 0.16902168 0.14958051 0.13473243 0.16951542]\n",
      " [0.12589014 0.13590539 0.10992735 0.1273609  0.08900349]], shape=(5, 5), dtype=float32)\n"
     ]
    }
   ],
   "source": [
    "#Membagi random_tensor dengan prime_tensor yang sudah di buat\n",
    "\n",
    "print(tf.divide(random_tensor, prime_tensor))"
   ]
  },
  {
   "cell_type": "code",
   "execution_count": 28,
   "id": "c5de5ad1",
   "metadata": {},
   "outputs": [
    {
     "name": "stdout",
     "output_type": "stream",
     "text": [
      "tf.Tensor(\n",
      "[[1837.8562 2076.4182 2220.8774 2434.8914 2753.999 ]\n",
      " [1798.5488 2030.7485 2172.0884 2376.9587 2685.6052]\n",
      " [1617.2228 1834.6034 1970.6448 2158.0906 2446.7695]\n",
      " [1790.1544 2021.4783 2164.7417 2369.8804 2687.9966]\n",
      " [1697.7817 1926.6086 2061.5852 2263.106  2553.9937]], shape=(5, 5), dtype=float32)\n"
     ]
    }
   ],
   "source": [
    "#Melakukan Matrik Multiplication random_tensor dengan prime_tensor yang sudah di buat\n",
    "\n",
    "print(tf.matmul(random_tensor, prime_tensor))"
   ]
  },
  {
   "cell_type": "code",
   "execution_count": 29,
   "id": "b4898974",
   "metadata": {},
   "outputs": [
    {
     "data": {
      "text/plain": [
       "<tf.Tensor: shape=(), dtype=float32, numpy=12.035595>"
      ]
     },
     "execution_count": 29,
     "metadata": {},
     "output_type": "execute_result"
    }
   ],
   "source": [
    "#Mencari Nilai Maksimal dari random_tensor\n",
    "\n",
    "tf.reduce_max(random_tensor)"
   ]
  },
  {
   "cell_type": "code",
   "execution_count": 30,
   "id": "c97b60a2",
   "metadata": {},
   "outputs": [
    {
     "data": {
      "text/plain": [
       "<tf.Tensor: shape=(), dtype=float32, numpy=8.51138>"
      ]
     },
     "execution_count": 30,
     "metadata": {},
     "output_type": "execute_result"
    }
   ],
   "source": [
    "#Mencari Nilai Minimal dari random_tensor\n",
    "\n",
    "tf.reduce_min(random_tensor)"
   ]
  },
  {
   "cell_type": "code",
   "execution_count": 31,
   "id": "0acd2324",
   "metadata": {},
   "outputs": [
    {
     "data": {
      "text/plain": [
       "<tf.Tensor: shape=(10, 5), dtype=float32, numpy=\n",
       "array([[ 10.758855,  10.181848,   8.826671,  11.069616,  11.282988],\n",
       "       [ 10.002104,   9.135122,   9.332851,  10.353046,  11.256962],\n",
       "       [ 10.638362,   9.060931,  10.143249,   8.51138 ,   9.761782],\n",
       "       [ 10.312356,   9.97228 ,   9.124411,   9.027073,  12.035595],\n",
       "       [  9.18998 ,  10.736526,   9.12397 ,  11.335119,   8.989352],\n",
       "       [  2.      ,   3.      ,   5.      ,   7.      ,  11.      ],\n",
       "       [ 13.      ,  17.      ,  19.      ,  23.      ,  29.      ],\n",
       "       [ 31.      ,  37.      ,  41.      ,  43.      ,  47.      ],\n",
       "       [ 53.      ,  59.      ,  61.      ,  67.      ,  71.      ],\n",
       "       [ 73.      ,  79.      ,  83.      ,  89.      , 101.      ]],\n",
       "      dtype=float32)>"
      ]
     },
     "execution_count": 31,
     "metadata": {},
     "output_type": "execute_result"
    }
   ],
   "source": [
    "#Menggabungkan dua tensor\n",
    "\n",
    "Concatenation = tf.concat([random_tensor,prime_tensor],axis=0)\n",
    "Concatenation"
   ]
  },
  {
   "cell_type": "code",
   "execution_count": 32,
   "id": "8da65aa0",
   "metadata": {},
   "outputs": [
    {
     "data": {
      "text/plain": [
       "<tf.Tensor: shape=(25,), dtype=float32, numpy=\n",
       "array([12.035595, 11.335119, 11.282988, 11.256962, 11.069616, 10.758855,\n",
       "       10.736526, 10.638362, 10.353046, 10.312356, 10.181848, 10.143249,\n",
       "       10.002104,  9.97228 ,  9.761782,  9.332851,  9.18998 ,  9.135122,\n",
       "        9.124411,  9.12397 ,  9.060931,  9.027073,  8.989352,  8.826671,\n",
       "        8.51138 ], dtype=float32)>"
      ]
     },
     "execution_count": 32,
     "metadata": {},
     "output_type": "execute_result"
    }
   ],
   "source": [
    "#Mengurutkan random_tensor dari yang terbesar\n",
    "\n",
    "random_tensorV2 = tf.reshape(random_tensor,[25])\n",
    "Sort1 = tf.sort(random_tensorV2,direction=\"DESCENDING\")\n",
    "Sort1"
   ]
  },
  {
   "cell_type": "code",
   "execution_count": 33,
   "id": "7fcf766c",
   "metadata": {},
   "outputs": [
    {
     "data": {
      "text/plain": [
       "<tf.Tensor: shape=(25,), dtype=float32, numpy=\n",
       "array([101.,  89.,  83.,  79.,  73.,  71.,  67.,  61.,  59.,  53.,  47.,\n",
       "        43.,  41.,  37.,  31.,  29.,  23.,  19.,  17.,  13.,  11.,   7.,\n",
       "         5.,   3.,   2.], dtype=float32)>"
      ]
     },
     "execution_count": 33,
     "metadata": {},
     "output_type": "execute_result"
    }
   ],
   "source": [
    "#Mengurutkan random_tensor dari yang terbesar\n",
    "\n",
    "prime_tensorV2 = tf.reshape(prime_tensor,[25])\n",
    "Sort2 = tf.sort(prime_tensorV2,direction=\"DESCENDING\")\n",
    "Sort2"
   ]
  }
 ],
 "metadata": {
  "kernelspec": {
   "display_name": "Python 3 (ipykernel)",
   "language": "python",
   "name": "python3"
  },
  "language_info": {
   "codemirror_mode": {
    "name": "ipython",
    "version": 3
   },
   "file_extension": ".py",
   "mimetype": "text/x-python",
   "name": "python",
   "nbconvert_exporter": "python",
   "pygments_lexer": "ipython3",
   "version": "3.10.7"
  }
 },
 "nbformat": 4,
 "nbformat_minor": 5
}
